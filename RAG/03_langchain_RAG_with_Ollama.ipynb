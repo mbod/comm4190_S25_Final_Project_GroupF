{
 "cells": [
  {
   "cell_type": "markdown",
   "id": "d9a6fcc3-42ea-470b-bb24-f25496fa5c9a",
   "metadata": {},
   "source": [
    "# Using `ollama` models with RAG"
   ]
  },
  {
   "cell_type": "markdown",
   "id": "756af7df-a6c4-471b-a1f6-d340977bd332",
   "metadata": {},
   "source": [
    "### Setup"
   ]
  },
  {
   "cell_type": "code",
   "execution_count": null,
   "id": "ae9872ca-1a2c-40b9-9e32-73c94fad3db9",
   "metadata": {},
   "outputs": [],
   "source": [
    "import openai\n",
    "import requests\n",
    "import json\n",
    "from openai import OpenAI\n",
    "from dotenv import load_dotenv\n",
    "\n",
    "from langchain_community.document_loaders import DirectoryLoader\n",
    "from langchain_text_splitters import RecursiveCharacterTextSplitter\n",
    "from langchain_community.vectorstores import Chroma\n",
    "from langchain_openai import OpenAIEmbeddings\n",
    "from langchain_community.embeddings import OllamaEmbeddings\n",
    "from langchain import hub\n",
    "from langchain_core.output_parsers import StrOutputParser\n",
    "from langchain_core.runnables import RunnablePassthrough\n",
    "from langchain_community.llms import Ollama\n",
    "from langchain_ollama import OllamaLLM\n",
    "\n",
    "import pandas as pd\n",
    "\n",
    "__import__('pysqlite3')\n",
    "import sys\n",
    "sys.modules['sqlite3'] = sys.modules.pop('pysqlite3')\n"
   ]
  },
  {
   "cell_type": "code",
   "execution_count": null,
   "id": "9974c822-5e99-4f0c-ab2d-f721c4b86111",
   "metadata": {},
   "outputs": [],
   "source": [
    "_ = load_dotenv()"
   ]
  },
  {
   "cell_type": "markdown",
   "id": "6681ff50-7f99-4f96-b77c-114ea850a3ca",
   "metadata": {},
   "source": [
    "* Connect to Ollama server"
   ]
  },
  {
   "cell_type": "code",
   "execution_count": null,
   "id": "1c345da6-55df-4dfd-b254-3c0b0205f2f5",
   "metadata": {},
   "outputs": [],
   "source": [
    "client = OpenAI(\n",
    "    base_url = 'http://10.30.16.100:11434/v1',\n",
    "    api_key='ollama', # required, but unused\n",
    ")"
   ]
  },
  {
   "cell_type": "markdown",
   "id": "bb71d16d-a3bc-4fa8-b099-e8162aa06eff",
   "metadata": {},
   "source": [
    "### Setup a query on a base model with no recent DP knowledge"
   ]
  },
  {
   "cell_type": "code",
   "execution_count": null,
   "id": "4138447e-64da-4fdd-871f-5d5ddfa46358",
   "metadata": {},
   "outputs": [],
   "source": [
    "query =  '''\n",
    "        Who came second in the NCAA Division I Championships \n",
    "        men's breaststroke in Indianapolis in March 2024 and \n",
    "        which university do they represent?\n",
    "        '''"
   ]
  },
  {
   "cell_type": "code",
   "execution_count": null,
   "id": "6cbb88d5-5ba0-4e99-9fde-1cca4086aaf2",
   "metadata": {},
   "outputs": [],
   "source": [
    "messages = [\n",
    "    {\"role\": \"system\", \"content\": \"You are a helpful assistant. Answer questions ONLY if you know the answer\"},\n",
    "    {\"role\": \"user\", \"content\": query},\n",
    "]"
   ]
  },
  {
   "cell_type": "code",
   "execution_count": null,
   "id": "3d8442a4-e38e-4c99-887c-5786feba88d9",
   "metadata": {},
   "outputs": [],
   "source": [
    "response = client.chat.completions.create(\n",
    "  model=\"llama2\",\n",
    "  messages=messages,\n",
    "  max_tokens=300\n",
    ")\n",
    "print(response.choices[0].message.content)"
   ]
  },
  {
   "cell_type": "markdown",
   "id": "4c58a116-994f-490f-a42b-4c8e2612916b",
   "metadata": {},
   "source": [
    "### Manually include relevant document as context"
   ]
  },
  {
   "cell_type": "code",
   "execution_count": null,
   "id": "8e6d2a97-63fa-44e3-a035-11d7b95b1652",
   "metadata": {},
   "outputs": [],
   "source": [
    "dp_doc = open('documents/dp_sports/penn-mens-swim-ncaa-championships-matt-fallon-recap.txt').read()"
   ]
  },
  {
   "cell_type": "code",
   "execution_count": null,
   "id": "4c849c0c-68a4-4a87-a496-2196a4133eda",
   "metadata": {},
   "outputs": [],
   "source": [
    "messages = [\n",
    "    {\"role\": \"system\", \"content\": \"You are a helpful assistant. Answer questions ONLY if you know the answer\"},\n",
    "    {\"role\": \"user\", \"content\": dp_doc},\n",
    "    {\"role\": \"user\", \"content\": query\n",
    "    },\n",
    "   \n",
    "  ]"
   ]
  },
  {
   "cell_type": "code",
   "execution_count": null,
   "id": "211ca31c-1d15-45b1-96fa-d67760b67fda",
   "metadata": {},
   "outputs": [],
   "source": [
    "response = client.chat.completions.create(\n",
    "  model=\"llama2\",\n",
    "  messages=messages,\n",
    "  max_tokens=300\n",
    ")\n",
    "print(response.choices[0].message.content)"
   ]
  },
  {
   "cell_type": "markdown",
   "id": "d86d8fa1-4c68-4a31-84c0-4b620d47bd04",
   "metadata": {},
   "source": [
    "## `langchain` RAG example"
   ]
  },
  {
   "cell_type": "markdown",
   "id": "188afb83-cb3e-4c5b-b3d7-035dccf78f2a",
   "metadata": {},
   "source": [
    "### 1. Load documents"
   ]
  },
  {
   "cell_type": "code",
   "execution_count": null,
   "id": "b8db2410-5aed-4e93-a822-a941394672f5",
   "metadata": {},
   "outputs": [],
   "source": [
    "loader = DirectoryLoader('./documents', glob=\"dp_sports/*.txt\")"
   ]
  },
  {
   "cell_type": "code",
   "execution_count": null,
   "id": "89187367-1246-431d-85c0-fc3865fe9351",
   "metadata": {},
   "outputs": [],
   "source": [
    "docs = loader.load()\n",
    "print(f'Loaded {len(docs)} documents')"
   ]
  },
  {
   "cell_type": "markdown",
   "id": "ee35f32e-2765-45de-88de-5bc0765eeff8",
   "metadata": {},
   "source": [
    "### 2. Split into chunks"
   ]
  },
  {
   "cell_type": "code",
   "execution_count": null,
   "id": "04c4d751-f15a-4c9d-8474-b0f21fb183b8",
   "metadata": {},
   "outputs": [],
   "source": [
    "text_splitter = RecursiveCharacterTextSplitter(\n",
    "    chunk_size=1000, chunk_overlap=200, \n",
    "    add_start_index=True,\n",
    "    separators=[\" \"]\n",
    ")\n",
    "all_splits = text_splitter.split_documents(docs)"
   ]
  },
  {
   "cell_type": "code",
   "execution_count": null,
   "id": "88125853-a3be-4838-a012-070dd89ef662",
   "metadata": {},
   "outputs": [],
   "source": [
    "len(all_splits)"
   ]
  },
  {
   "cell_type": "markdown",
   "id": "b1fe16c1-9ee8-4016-b1d8-998067ab9ea3",
   "metadata": {},
   "source": [
    "* Looking at chunks"
   ]
  },
  {
   "cell_type": "code",
   "execution_count": null,
   "id": "2358286d-1874-4ec5-9ea6-18f988760070",
   "metadata": {},
   "outputs": [],
   "source": [
    "all_splits[0]"
   ]
  },
  {
   "cell_type": "code",
   "execution_count": null,
   "id": "79a67e36-9462-42db-a9ca-49400b812e99",
   "metadata": {},
   "outputs": [],
   "source": [
    "all_splits[1]"
   ]
  },
  {
   "cell_type": "markdown",
   "id": "9bd1ed0a-ad52-4cd1-b99f-bc7c4c3ae85a",
   "metadata": {},
   "source": [
    "### Load chunks into vector store"
   ]
  },
  {
   "cell_type": "code",
   "execution_count": null,
   "id": "177734c6-07e2-483d-9f56-f02ea4a4cddd",
   "metadata": {},
   "outputs": [],
   "source": [
    "vectorstore = Chroma.from_documents(documents=all_splits, \n",
    "                                    embedding=OpenAIEmbeddings(),\n",
    "                                    persist_directory='./chroma_db')"
   ]
  },
  {
   "cell_type": "code",
   "execution_count": null,
   "id": "5a72e169-37bf-441d-b1e0-e918e67e3472",
   "metadata": {},
   "outputs": [],
   "source": [
    "retriever = vectorstore.as_retriever(search_type=\"similarity\", \n",
    "                                     search_kwargs={\"k\": 6})\n",
    "\n"
   ]
  },
  {
   "cell_type": "markdown",
   "id": "1d42cb21-d72c-4e8a-a6f9-70d8d880296a",
   "metadata": {},
   "source": [
    "#### Example query on vector database"
   ]
  },
  {
   "cell_type": "code",
   "execution_count": null,
   "id": "f43f5c88-6a39-4362-991c-603abf3d6cff",
   "metadata": {},
   "outputs": [],
   "source": [
    "print(query)"
   ]
  },
  {
   "cell_type": "code",
   "execution_count": null,
   "id": "0e62a036-aab4-4d38-b5b6-766890da7c12",
   "metadata": {},
   "outputs": [],
   "source": [
    "retrieved_docs = retriever.invoke(query)\n",
    "len(retrieved_docs)"
   ]
  },
  {
   "cell_type": "code",
   "execution_count": null,
   "id": "91195977-90fa-4884-aeda-708c35c50f03",
   "metadata": {},
   "outputs": [],
   "source": [
    "relevance_docs_and_scores = vectorstore.similarity_search_with_relevance_scores(query,\n",
    "                                                                                k=6)"
   ]
  },
  {
   "cell_type": "code",
   "execution_count": null,
   "id": "0a840b93-107b-47df-a339-213a210debec",
   "metadata": {},
   "outputs": [],
   "source": [
    "chunks = []\n",
    "for chunk, score in relevance_docs_and_scores:\n",
    "    chunks.append({'content': chunk.page_content,\n",
    "                   'similarity_score': score,\n",
    "                   'document': chunk.metadata['source']})"
   ]
  },
  {
   "cell_type": "code",
   "execution_count": null,
   "id": "9117e99c-72d8-4c77-96f4-d67555e77b99",
   "metadata": {},
   "outputs": [],
   "source": [
    "pd.DataFrame(chunks)"
   ]
  },
  {
   "cell_type": "markdown",
   "id": "fac9304b-043d-4419-8a79-b475a9e0b4cb",
   "metadata": {},
   "source": [
    "## `langchain` RAG chain"
   ]
  },
  {
   "cell_type": "code",
   "execution_count": null,
   "id": "c57bfbc7-b6d9-4bc4-a0c4-5bb51c0a477e",
   "metadata": {},
   "outputs": [],
   "source": [
    "prompt = hub.pull(\"rlm/rag-prompt\")"
   ]
  },
  {
   "cell_type": "code",
   "execution_count": null,
   "id": "1552d717-7137-4dcf-95c5-3b4a551eb73a",
   "metadata": {},
   "outputs": [],
   "source": [
    "prompt"
   ]
  },
  {
   "cell_type": "markdown",
   "id": "78799535-c0b3-4ba6-b9ea-365a78f07781",
   "metadata": {},
   "source": [
    "* Setup LLM component"
   ]
  },
  {
   "cell_type": "code",
   "execution_count": null,
   "id": "c89b387e-97fa-4ed8-b197-70b0faea9106",
   "metadata": {},
   "outputs": [],
   "source": [
    "ollama = Ollama(\n",
    "        base_url=\"http://10.30.16.100:11434\",\n",
    "        model=\"llama2\")"
   ]
  },
  {
   "cell_type": "markdown",
   "id": "5a5861b5-b549-496a-8ef5-47b29b59a4e2",
   "metadata": {},
   "source": [
    "### Setup chains"
   ]
  },
  {
   "cell_type": "code",
   "execution_count": null,
   "id": "9afe5683-47b6-4506-8cf6-cf92468d6edd",
   "metadata": {},
   "outputs": [],
   "source": [
    "\n",
    "\n",
    "def format_docs(docs):\n",
    "    return \"\\n\\n\".join(doc.page_content for doc in docs)\n",
    "\n",
    "rag_result = (retriever | format_docs)\n",
    "\n",
    "norag_chain = (\n",
    "    prompt\n",
    "    | ollama\n",
    "    | StrOutputParser()\n",
    ")\n",
    "\n",
    "rag_chain = (\n",
    "    {\"context\": retriever | format_docs, \"question\": RunnablePassthrough()}\n",
    "    | prompt\n",
    "    | ollama\n",
    "    | StrOutputParser()\n",
    ")"
   ]
  },
  {
   "cell_type": "code",
   "execution_count": null,
   "id": "c2339993-7ba2-4397-9774-40c707d68e8c",
   "metadata": {},
   "outputs": [],
   "source": [
    "query2 = \"Which team ended Penn's baseball win streak?\""
   ]
  },
  {
   "cell_type": "markdown",
   "id": "4b43e69c-adde-4c3c-89fc-f303c288e512",
   "metadata": {},
   "source": [
    "#### with RAG"
   ]
  },
  {
   "cell_type": "code",
   "execution_count": null,
   "id": "04fc12be-be10-441d-bd4b-76d7e11b77cc",
   "metadata": {},
   "outputs": [],
   "source": [
    "rag_chain.invoke(query)"
   ]
  },
  {
   "cell_type": "markdown",
   "id": "8750abb9-e9ca-48ef-aa84-7a26b08a5427",
   "metadata": {},
   "source": [
    "#### No RAG"
   ]
  },
  {
   "cell_type": "code",
   "execution_count": null,
   "id": "f7d08e37-289c-4f1f-885d-9dca919564c7",
   "metadata": {},
   "outputs": [],
   "source": [
    "norag_chain.invoke({\"question\": query, 'context': ''})"
   ]
  },
  {
   "cell_type": "markdown",
   "id": "b3cdfdab-bb42-4399-8669-e361c741cf5e",
   "metadata": {},
   "source": [
    "#### Looking at the context"
   ]
  },
  {
   "cell_type": "code",
   "execution_count": null,
   "id": "444df699-a217-4c7e-a1f3-70c82cc64170",
   "metadata": {},
   "outputs": [],
   "source": [
    "print(rag_result.invoke(query))"
   ]
  },
  {
   "cell_type": "code",
   "execution_count": null,
   "id": "80d96b6b-9627-4748-a970-aaad6e79d080",
   "metadata": {},
   "outputs": [],
   "source": []
  }
 ],
 "metadata": {
  "citation-manager": {
   "items": {}
  },
  "kernelspec": {
   "display_name": "Python 3-12 (COMM4190)",
   "language": "python",
   "name": "python3-12_comm4190"
  },
  "language_info": {
   "codemirror_mode": {
    "name": "ipython",
    "version": 3
   },
   "file_extension": ".py",
   "mimetype": "text/x-python",
   "name": "python",
   "nbconvert_exporter": "python",
   "pygments_lexer": "ipython3",
   "version": "3.12.8"
  }
 },
 "nbformat": 4,
 "nbformat_minor": 5
}
