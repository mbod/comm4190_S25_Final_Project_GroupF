{
 "cells": [
  {
   "attachments": {},
   "cell_type": "markdown",
   "id": "f96716fc-c542-41ca-9606-019efa137713",
   "metadata": {},
   "source": [
    "# University City Dining Navigator: RAG-Based Recommendation System - Testing\n",
    "\n",
    "\n",
    "## Development\n",
    "Our project uses a RAG and Anthropic's Sonnet 3.5 with University City Recomendation Data to give recomendations to people looking for places to eat.\n",
    "\n",
    "## Testing\n",
    "We will evaluate our model performance by testing some simple user scenerios:\n",
    "\n",
    "### Hungry Student\n",
    "<img src=\"testing_chat_1.png\" width=\"50%\"/>\n",
    "\n",
    "Results: The RAG leans into recomending a resturant as opposed to making conversation with the user. This is likely a result of the prompting of the model. I think that this is a good response considering that the goal is to give the user a resturant. \n",
    "\n",
    "\n",
    "### First Date\n",
    "<img src=\"testing_chat_2.png\" width=\"50%\"/>\n",
    "Results: This is an aspect of the model that I think could perform better - as our data collection was subjective on the vibe of a given place, our RAG is going to be somewhat biased. Overall this is a fair performance, but one way to improve this would be have a more robust dataset.\n",
    "\n",
    "### That One Birthday Party\n",
    "<img src=\"testing_chat_3.png\" width=\"50%\"/>\n",
    "Results: If the prompting was a bit more focused on getting data from the user - I think that the RAG would ask more questions to better understand the situation. At the same time - given that the user is looking for a resturant, I think that this is a fair response to their prompt.\n"
   ]
  },
  {
   "cell_type": "code",
   "execution_count": null,
   "id": "b57a6ce5-2f12-48c5-9e6b-c5b7ffaf6310",
   "metadata": {},
   "outputs": [],
   "source": []
  }
 ],
 "metadata": {
  "kernelspec": {
   "display_name": "Python 3 (ipykernel)",
   "language": "python",
   "name": "python3"
  },
  "language_info": {
   "codemirror_mode": {
    "name": "ipython",
    "version": 3
   },
   "file_extension": ".py",
   "mimetype": "text/x-python",
   "name": "python",
   "nbconvert_exporter": "python",
   "pygments_lexer": "ipython3",
   "version": "3.10.12"
  }
 },
 "nbformat": 4,
 "nbformat_minor": 5
}
